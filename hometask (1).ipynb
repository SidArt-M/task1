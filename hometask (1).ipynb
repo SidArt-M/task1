{
 "cells": [
  {
   "cell_type": "code",
   "execution_count": 1,
   "id": "9329bfc2-ade5-480a-b845-36b35b005fd6",
   "metadata": {},
   "outputs": [],
   "source": [
    "# Write a function which will try to find out length of a string without using an inbuilt length function"
   ]
  },
  {
   "cell_type": "code",
   "execution_count": 2,
   "id": "e5ac774f-f39f-46f0-92da-d70e1e6f952a",
   "metadata": {},
   "outputs": [
    {
     "name": "stdin",
     "output_type": "stream",
     "text": [
      "Enter String errdceg\n"
     ]
    },
    {
     "name": "stdout",
     "output_type": "stream",
     "text": [
      "7\n"
     ]
    }
   ],
   "source": [
    "str = input(\"Enter String\")\n",
    "def f_len(str):\n",
    "    count=0\n",
    "    for i in str:\n",
    "        count +=1\n",
    "    return count\n",
    "\n",
    "print(f_len(str))"
   ]
  },
  {
   "cell_type": "code",
   "execution_count": null,
   "id": "ad7a5bfb-681b-43cb-87b3-511fc7759af4",
   "metadata": {},
   "outputs": [],
   "source": [
    "# Write a function which will be able to print an index of list element without using index function"
   ]
  },
  {
   "cell_type": "code",
   "execution_count": 8,
   "id": "0d0fe40e-0fde-49f4-8114-d246ce1c1df6",
   "metadata": {},
   "outputs": [
    {
     "name": "stdout",
     "output_type": "stream",
     "text": [
      "index of 2 is 0\n",
      "index of 3 is 1\n",
      "index of 4 is 2\n",
      "index of 5 is 3\n",
      "index of 6 is 4\n",
      "index of 7 is 5\n",
      "index of 8 is 6\n",
      "index of 9 is 7\n",
      "index of ineuron is 8\n"
     ]
    },
    {
     "data": {
      "text/plain": [
       "'end of list'"
      ]
     },
     "execution_count": 8,
     "metadata": {},
     "output_type": "execute_result"
    }
   ],
   "source": [
    "l=[2,3,4,5,6,7,8,9,\"ineuron\"]\n",
    "def test2(l):\n",
    "    for i in range (0,len(l)):\n",
    "        print(f'index of {l[i]} is {i}')\n",
    "    return \"end of list\"\n",
    "\n",
    "test2(l)\n"
   ]
  },
  {
   "cell_type": "code",
   "execution_count": null,
   "id": "c3729feb-fe7d-4e3a-a849-23ac6581e19a",
   "metadata": {},
   "outputs": [],
   "source": [
    "#write a function which will take input as a list with any kind of numeric value and give an out as a multiplication of \n",
    "#all the numeric data l = [3.5, 6.56, 4,5,\"sudh\" , \"ineuron\" , 'fsda bootcamp 2.0']"
   ]
  },
  {
   "cell_type": "code",
   "execution_count": 1,
   "id": "a10e3dc2-43bd-41a6-bc4c-e2e5160a4ffb",
   "metadata": {},
   "outputs": [],
   "source": [
    "l1= [3.5, 6.56, 4,5,\"sudh\" , \"ineuron\" , 'fsda bootcamp 2.0']\n",
    "\n",
    "def test4(l):\n",
    "    a = 1\n",
    "    for i in l :\n",
    "        if type(i) == float:\n",
    "            a = i*a\n",
    "        if type(i) == int:\n",
    "            a = i*a\n",
    "    return a"
   ]
  },
  {
   "cell_type": "code",
   "execution_count": 3,
   "id": "97e9a999-8183-438f-a98f-ab9aa9aa09c3",
   "metadata": {
    "collapsed": true,
    "jupyter": {
     "outputs_hidden": true
    },
    "tags": []
   },
   "outputs": [
    {
     "data": {
      "text/plain": [
       "459.19999999999993"
      ]
     },
     "execution_count": 3,
     "metadata": {},
     "output_type": "execute_result"
    }
   ],
   "source": [
    "test4(l1)\n"
   ]
  },
  {
   "cell_type": "code",
   "execution_count": null,
   "id": "4ec90ebc-378a-40ac-acd8-ee69fc6e0572",
   "metadata": {},
   "outputs": [],
   "source": [
    "#write a function which will be able to print an ip address of your system"
   ]
  },
  {
   "cell_type": "code",
   "execution_count": 11,
   "id": "18bc18b8-5d00-41ba-b02c-f0f3179546bd",
   "metadata": {},
   "outputs": [],
   "source": [
    "import socket\n",
    "print(socket.gethostbyname(socket.gethostname()))"
   ]
  }
 ],
 "metadata": {
  "kernelspec": {
   "display_name": "Python 3 (ipykernel)",
   "language": "python",
   "name": "python3"
  },
  "language_info": {
   "codemirror_mode": {
    "name": "ipython",
    "version": 3
   },
   "file_extension": ".py",
   "mimetype": "text/x-python",
   "name": "python",
   "nbconvert_exporter": "python",
   "pygments_lexer": "ipython3",
   "version": "3.10.6"
  }
 },
 "nbformat": 4,
 "nbformat_minor": 5
}
